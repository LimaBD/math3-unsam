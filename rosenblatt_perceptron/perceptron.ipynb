{
 "cells": [
  {
   "cell_type": "markdown",
   "metadata": {},
   "source": [
    "# Rosenblatt Perceptron"
   ]
  },
  {
   "cell_type": "markdown",
   "metadata": {},
   "source": [
    "### Parameters"
   ]
  },
  {
   "cell_type": "code",
   "execution_count": 3,
   "metadata": {},
   "outputs": [],
   "source": [
    "IMAGE_HEIGHT = 20\n",
    "IMAGE_WIDTH = 20\n",
    "EPOCHS = 100000"
   ]
  },
  {
   "cell_type": "markdown",
   "metadata": {},
   "source": [
    "### Importing packages"
   ]
  },
  {
   "cell_type": "code",
   "execution_count": 4,
   "metadata": {},
   "outputs": [],
   "source": [
    "# Standard packages\n",
    "import random\n",
    "\n",
    "# Installed packages\n",
    "import matplotlib.pyplot as plt\n",
    "\n",
    "# Local modules\n",
    "from perceptron import Perceptron\n",
    "from random_figure import (FigureGenerator,\n",
    "                           RectangleGenerator,\n",
    "                           CircleGenerator)"
   ]
  },
  {
   "cell_type": "markdown",
   "metadata": {},
   "source": [
    "### Rectangle image generation"
   ]
  },
  {
   "cell_type": "code",
   "execution_count": 7,
   "metadata": {},
   "outputs": [
    {
     "data": {
      "image/png": "[encoded data removed]",
      "text/plain": [
       "<Figure size 360x360 with 9 Axes>"
      ]
     },
     "metadata": {
      "needs_background": "light"
     },
     "output_type": "display_data"
    }
   ],
   "source": [
    "rect_gen = RectangleGenerator()\n",
    "rect_gen.set_canvas_dimensions(IMAGE_HEIGHT, IMAGE_WIDTH)\n",
    "rect_gen.set_min_figure(int(IMAGE_HEIGHT*0.50), int(IMAGE_WIDTH*0.50))\n",
    "rect_gen.set_max_figure(int(IMAGE_HEIGHT*0.80), int(IMAGE_WIDTH*0.80))\n",
    "\n",
    "# Plot samples\n",
    "rows, cols = 3, 3\n",
    "fig, ax = plt.subplots(rows, cols, figsize=(5, 5))\n",
    "fig.suptitle('Rectangles samples')\n",
    "\n",
    "for i in range(rows):\n",
    "    for j in range(cols):\n",
    "        ax[i, j].imshow(rect_gen.generate())\n",
    "        ax[i, j].axis('off')"
   ]
  },
  {
   "cell_type": "markdown",
   "metadata": {},
   "source": [
    "### Circle image generation"
   ]
  },
  {
   "cell_type": "code",
   "execution_count": 8,
   "metadata": {},
   "outputs": [
    {
     "data": {
      "image/png": "[encoded data removed]",
      "text/plain": [
       "<Figure size 360x360 with 9 Axes>"
      ]
     },
     "metadata": {
      "needs_background": "light"
     },
     "output_type": "display_data"
    }
   ],
   "source": [
    "circ_gen = CircleGenerator()\n",
    "circ_gen.set_canvas_dimensions(IMAGE_HEIGHT, IMAGE_WIDTH)\n",
    "circ_gen.set_min_figure(int(IMAGE_HEIGHT*0.50), int(IMAGE_WIDTH*0.50))\n",
    "circ_gen.set_max_figure(int(IMAGE_HEIGHT*0.80), int(IMAGE_WIDTH*0.80))\n",
    "\n",
    "# Plot samples\n",
    "rows, cols = 3, 3\n",
    "fig, ax = plt.subplots(rows, cols, figsize=(5, 5))\n",
    "fig.suptitle('Circles samples')\n",
    "\n",
    "for i in range(rows):\n",
    "    for j in range(cols):\n",
    "        ax[i, j].imshow(circ_gen.generate())\n",
    "        ax[i, j].axis('off')"
   ]
  },
  {
   "cell_type": "markdown",
   "metadata": {},
   "source": [
    "### Perceptron training"
   ]
  },
  {
   "cell_type": "code",
   "execution_count": 9,
   "metadata": {},
   "outputs": [
    {
     "data": {
      "text/plain": [
       "<matplotlib.colorbar.Colorbar at 0x7fb1cac13c70>"
      ]
     },
     "execution_count": 9,
     "metadata": {},
     "output_type": "execute_result"
    },
    {
     "data": {
      "image/png": "[encoded data removed]",
      "text/plain": [
       "<Figure size 432x288 with 2 Axes>"
      ]
     },
     "metadata": {
      "needs_background": "light"
     },
     "output_type": "display_data"
    }
   ],
   "source": [
    "perceptron = Perceptron(bias=5, learning_rate=0.0001, height=IMAGE_HEIGHT, width=IMAGE_WIDTH)\n",
    "\n",
    "for _ in range(EPOCHS):\n",
    "\n",
    "    # Generate figure\n",
    "    is_circle = random.choice([True, False])\n",
    "    figure = circ_gen.generate() if is_circle else rect_gen.generate()\n",
    "\n",
    "    # Fit perceptron\n",
    "    perceptron.fit(should_activate=is_circle, figure=figure)\n",
    "\n",
    "# Plot final weights\n",
    "plt.imshow(perceptron.weights)\n",
    "plt.suptitle('Final weights')\n",
    "plt.axis('off')\n",
    "plt.colorbar()"
   ]
  },
  {
   "cell_type": "markdown",
   "metadata": {},
   "source": [
    "### Testing the Perceptron"
   ]
  },
  {
   "cell_type": "code",
   "execution_count": 11,
   "metadata": {},
   "outputs": [
    {
     "name": "stdout",
     "output_type": "stream",
     "text": [
      "Total samples\t1000\n",
      "Total hits\t683 (68.3%)\n",
      "\n",
      "\t\tsamples\t\thits\t\taccuracy\tavg. scalar product\n",
      "Circles\t\t500\t\t327\t\t65.4%\t\t15.67973120000298\n",
      "Rectangles\t500\t\t356\t\t71.2%\t\t-49.12225499999141\n"
     ]
    }
   ],
   "source": [
    "SAMPLES = 1000\n",
    "\n",
    "def test_figure(figure_generator:FigureGenerator,\n",
    "                should_activate:bool,\n",
    "                iterations:int):\n",
    "    \"\"\"Test figures, return number of hits and avg scalar product\"\"\"\n",
    "\n",
    "    hits = 0\n",
    "    scalar_products = []\n",
    "\n",
    "    for _ in range(iterations):\n",
    "        new_figure = figure_generator.generate()\n",
    "        is_activated, scalar_product = perceptron.predict(new_figure)\n",
    "\n",
    "        if is_activated == should_activate:\n",
    "            hits += 1\n",
    "\n",
    "        scalar_products.append(scalar_product)\n",
    "\n",
    "    return hits, sum(scalar_products) / iterations\n",
    "\n",
    "# Test circles and rectangles\n",
    "samples_per_figure = int(SAMPLES/2)\n",
    "circles_hits, circle_avg_sp = test_figure(circ_gen, True, samples_per_figure)\n",
    "rectangles_hits, rectangle_avg_sp = test_figure(rect_gen, False, samples_per_figure)\n",
    "\n",
    "# Output data\n",
    "print(f'Total samples\\t{SAMPLES}')\n",
    "\n",
    "total_hits = circles_hits + rectangles_hits\n",
    "print(f'Total hits\\t{total_hits} ({round(total_hits/SAMPLES * 100, 3)}%)')\n",
    "\n",
    "print('\\n\\t\\tsamples\\t\\thits\\t\\taccuracy\\tavg. scalar product')\n",
    "print(f'Circles'\n",
    "      f'\\t\\t{samples_per_figure}'\n",
    "      f'\\t\\t{circles_hits}'\n",
    "      f'\\t\\t{round(circles_hits/samples_per_figure * 100, 3)}%'\n",
    "      f'\\t\\t{circle_avg_sp}')\n",
    "print(f'Rectangles'\n",
    "      f'\\t{samples_per_figure}'\n",
    "      f'\\t\\t{rectangles_hits}'\n",
    "      f'\\t\\t{round(rectangles_hits/samples_per_figure * 100, 3)}%'\n",
    "      f'\\t\\t{rectangle_avg_sp}')"
   ]
  }
 ],
 "metadata": {
  "kernelspec": {
   "display_name": "Python 3.10.4 64-bit",
   "language": "python",
   "name": "python3"
  },
  "language_info": {
   "codemirror_mode": {
    "name": "ipython",
    "version": 3
   },
   "file_extension": ".py",
   "mimetype": "text/x-python",
   "name": "python",
   "nbconvert_exporter": "python",
   "pygments_lexer": "ipython3",
   "version": "3.10.4"
  },
  "orig_nbformat": 4,
  "vscode": {
   "interpreter": {
    "hash": "916dbcbb3f70747c44a77c7bcd40155683ae19c65e1c03b4aa3499c5328201f1"
   }
  }
 },
 "nbformat": 4,
 "nbformat_minor": 2
}
