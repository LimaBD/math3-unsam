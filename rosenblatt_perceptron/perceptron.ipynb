{
 "cells": [
  {
   "cell_type": "markdown",
   "metadata": {},
   "source": [
    "# Rosenblatt Perceptron"
   ]
  },
  {
   "cell_type": "markdown",
   "metadata": {},
   "source": [
    "### Parameters"
   ]
  },
  {
   "cell_type": "code",
   "execution_count": 76,
   "metadata": {},
   "outputs": [],
   "source": [
    "IMAGE_HEIGHT = 20\n",
    "IMAGE_WIDTH = 20\n",
    "EPOCHS = 10000000"
   ]
  },
  {
   "cell_type": "markdown",
   "metadata": {},
   "source": [
    "### Importing packages"
   ]
  },
  {
   "cell_type": "code",
   "execution_count": 2,
   "metadata": {},
   "outputs": [],
   "source": [
    "# Standard packages\n",
    "import random\n",
    "\n",
    "# Installed packages\n",
    "import matplotlib.pyplot as plt\n",
    "\n",
    "# Local modules\n",
    "from perceptron import Perceptron\n",
    "from random_figure import RectangleGenerator, CircleGenerator"
   ]
  },
  {
   "cell_type": "markdown",
   "metadata": {},
   "source": [
    "### Rectangle image generation"
   ]
  },
  {
   "cell_type": "code",
   "execution_count": 3,
   "metadata": {},
   "outputs": [
    {
     "data": {
      "image/png": "[encoded data removed]",
      "text/plain": [
       "<Figure size 360x360 with 9 Axes>"
      ]
     },
     "metadata": {
      "needs_background": "light"
     },
     "output_type": "display_data"
    }
   ],
   "source": [
    "rect_gen = RectangleGenerator()\n",
    "rect_gen.set_canvas_dimensions(IMAGE_HEIGHT, IMAGE_WIDTH)\n",
    "rect_gen.set_min_figure(int(IMAGE_HEIGHT*0.20), int(IMAGE_WIDTH*0.20))\n",
    "rect_gen.set_max_figure(int(IMAGE_HEIGHT*0.70), int(IMAGE_WIDTH*0.70))\n",
    "\n",
    "# Plot samples\n",
    "rows, cols = 3, 3\n",
    "fig, ax = plt.subplots(rows, cols, figsize=(5, 5))\n",
    "fig.suptitle('Rectangles samples')\n",
    "\n",
    "for i in range(rows):\n",
    "    for j in range(cols):\n",
    "        ax[i, j].imshow(rect_gen.generate())\n",
    "        ax[i, j].axis('off')"
   ]
  },
  {
   "cell_type": "markdown",
   "metadata": {},
   "source": [
    "### Circle image generation"
   ]
  },
  {
   "cell_type": "code",
   "execution_count": 4,
   "metadata": {},
   "outputs": [
    {
     "data": {
      "image/png": "[encoded data removed]",
      "text/plain": [
       "<Figure size 360x360 with 9 Axes>"
      ]
     },
     "metadata": {
      "needs_background": "light"
     },
     "output_type": "display_data"
    }
   ],
   "source": [
    "circ_gen = CircleGenerator()\n",
    "circ_gen.set_canvas_dimensions(IMAGE_HEIGHT, IMAGE_WIDTH)\n",
    "circ_gen.set_min_figure(int(IMAGE_HEIGHT*0.20), int(IMAGE_WIDTH*0.20))\n",
    "circ_gen.set_max_figure(int(IMAGE_HEIGHT*0.70), int(IMAGE_WIDTH*0.70))\n",
    "\n",
    "# Plot samples\n",
    "rows, cols = 3, 3\n",
    "fig, ax = plt.subplots(rows, cols, figsize=(5, 5))\n",
    "fig.suptitle('Circles samples')\n",
    "\n",
    "for i in range(rows):\n",
    "    for j in range(cols):\n",
    "        ax[i, j].imshow(circ_gen.generate())\n",
    "        ax[i, j].axis('off')"
   ]
  },
  {
   "cell_type": "markdown",
   "metadata": {},
   "source": [
    "### Training"
   ]
  },
  {
   "cell_type": "code",
   "execution_count": 77,
   "metadata": {},
   "outputs": [
    {
     "data": {
      "text/plain": [
       "<matplotlib.colorbar.Colorbar at 0x7fe52bb4e800>"
      ]
     },
     "execution_count": 77,
     "metadata": {},
     "output_type": "execute_result"
    },
    {
     "data": {
      "image/png": "[encoded data removed]",
      "text/plain": [
       "<Figure size 432x288 with 2 Axes>"
      ]
     },
     "metadata": {
      "needs_background": "light"
     },
     "output_type": "display_data"
    }
   ],
   "source": [
    "perceptron = Perceptron(bias=6, learning_rate=0.0001, height=IMAGE_HEIGHT, width=IMAGE_WIDTH)\n",
    "\n",
    "for _ in range(EPOCHS):\n",
    "\n",
    "    # Generate figure\n",
    "    is_circle = random.choice([True, False])\n",
    "    figure = circ_gen.generate() if is_circle else rect_gen.generate()\n",
    "\n",
    "    # Fit perceptron\n",
    "    perceptron.fit(should_activate=is_circle, figure=figure)\n",
    "\n",
    "# Plot final weights\n",
    "plt.imshow(perceptron.weights)\n",
    "plt.suptitle('Final weights')\n",
    "plt.axis('off')\n",
    "plt.colorbar()"
   ]
  },
  {
   "cell_type": "markdown",
   "metadata": {},
   "source": [
    "### Tests"
   ]
  },
  {
   "cell_type": "code",
   "execution_count": 75,
   "metadata": {},
   "outputs": [
    {
     "name": "stdout",
     "output_type": "stream",
     "text": [
      "samples 1000\n",
      "hits 555\n",
      "accuracy 55.5%\n"
     ]
    }
   ],
   "source": [
    "SAMPLES = 1000\n",
    "\n",
    "hits = 0\n",
    "samples_per_type = int(SAMPLES/2)\n",
    "\n",
    "# Test circles\n",
    "for _ in range(samples_per_type):\n",
    "    new_figure = circ_gen.generate()\n",
    "    is_activated = perceptron.predict(new_figure)\n",
    "\n",
    "    if is_activated:\n",
    "        hits += 1\n",
    "\n",
    "# Test rectangles\n",
    "for _ in range(samples_per_type):\n",
    "    new_figure = rect_gen.generate()\n",
    "    is_activated = perceptron.predict(new_figure)\n",
    "\n",
    "    if not is_activated:\n",
    "        hits += 1\n",
    "\n",
    "print(f'samples {SAMPLES}')\n",
    "print(f'hits {hits}')\n",
    "print(f'accuracy {round(hits/SAMPLES * 100, 3)}%')"
   ]
  }
 ],
 "metadata": {
  "kernelspec": {
   "display_name": "Python 3.10.4 64-bit",
   "language": "python",
   "name": "python3"
  },
  "language_info": {
   "codemirror_mode": {
    "name": "ipython",
    "version": 3
   },
   "file_extension": ".py",
   "mimetype": "text/x-python",
   "name": "python",
   "nbconvert_exporter": "python",
   "pygments_lexer": "ipython3",
   "version": "3.10.4"
  },
  "orig_nbformat": 4,
  "vscode": {
   "interpreter": {
    "hash": "916dbcbb3f70747c44a77c7bcd40155683ae19c65e1c03b4aa3499c5328201f1"
   }
  }
 },
 "nbformat": 4,
 "nbformat_minor": 2
}
